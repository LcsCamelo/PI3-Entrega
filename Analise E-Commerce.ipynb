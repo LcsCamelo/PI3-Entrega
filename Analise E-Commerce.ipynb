{
 "cells": [
  {
   "cell_type": "markdown",
   "metadata": {},
   "source": [
    "# PROJETO 2 \n",
    "### ANÁLISE DE DADOS DE E-COMMERCE"
   ]
  },
  {
   "cell_type": "markdown",
   "metadata": {},
   "source": [
    "# 1. Compreensão do Dataset"
   ]
  },
  {
   "cell_type": "code",
   "execution_count": 1,
   "metadata": {},
   "outputs": [],
   "source": [
    "import pandas as pd\n",
    "pd.options.mode.chained_assignment = None  # default='warn'\n",
    "import seaborn as sns\n",
    "import matplotlib.pyplot as plt"
   ]
  },
  {
   "cell_type": "code",
   "execution_count": 2,
   "metadata": {},
   "outputs": [],
   "source": [
    "# Carregar o dataset para a memória (utilizando pandas) --> data.csv\n",
    "df = pd.read_csv('data.csv',encoding=\"ISO-8859-1\",)"
   ]
  },
  {
   "cell_type": "markdown",
   "metadata": {},
   "source": [
    "# 1. Compreensão do Negócio e do Problema "
   ]
  },
  {
   "cell_type": "code",
   "execution_count": 3,
   "metadata": {},
   "outputs": [
    {
     "name": "stdout",
     "output_type": "stream",
     "text": [
      "  InvoiceNo StockCode                          Description  Quantity  \\\n",
      "0    536365    85123A   WHITE HANGING HEART T-LIGHT HOLDER         6   \n",
      "1    536365     71053                  WHITE METAL LANTERN         6   \n",
      "2    536365    84406B       CREAM CUPID HEARTS COAT HANGER         8   \n",
      "3    536365    84029G  KNITTED UNION FLAG HOT WATER BOTTLE         6   \n",
      "4    536365    84029E       RED WOOLLY HOTTIE WHITE HEART.         6   \n",
      "\n",
      "      InvoiceDate  UnitPrice  CustomerID         Country  \n",
      "0  12/1/2010 8:26       2.55     17850.0  United Kingdom  \n",
      "1  12/1/2010 8:26       3.39     17850.0  United Kingdom  \n",
      "2  12/1/2010 8:26       2.75     17850.0  United Kingdom  \n",
      "3  12/1/2010 8:26       3.39     17850.0  United Kingdom  \n",
      "4  12/1/2010 8:26       3.39     17850.0  United Kingdom  \n"
     ]
    }
   ],
   "source": [
    "# Verificando se carregou adequadamente e mostrando as 5 primeiras linhas do dataframe\n",
    "print(df.head(5))"
   ]
  },
  {
   "cell_type": "code",
   "execution_count": 4,
   "metadata": {},
   "outputs": [
    {
     "name": "stdout",
     "output_type": "stream",
     "text": [
      "<class 'pandas.core.frame.DataFrame'>\n",
      "RangeIndex: 541909 entries, 0 to 541908\n",
      "Data columns (total 8 columns):\n",
      " #   Column       Non-Null Count   Dtype  \n",
      "---  ------       --------------   -----  \n",
      " 0   InvoiceNo    541909 non-null  object \n",
      " 1   StockCode    541909 non-null  object \n",
      " 2   Description  540455 non-null  object \n",
      " 3   Quantity     541909 non-null  int64  \n",
      " 4   InvoiceDate  541909 non-null  object \n",
      " 5   UnitPrice    541909 non-null  float64\n",
      " 6   CustomerID   406829 non-null  float64\n",
      " 7   Country      541909 non-null  object \n",
      "dtypes: float64(2), int64(1), object(5)\n",
      "memory usage: 33.1+ MB\n"
     ]
    }
   ],
   "source": [
    "df.info()"
   ]
  },
  {
   "cell_type": "markdown",
   "metadata": {},
   "source": [
    "## Descrição das Colunas\n",
    "\n",
    "**InvoiceNo**  - Código identificador da Ordem de Venda  \n",
    "**StockCode**   - Código do item ou Apenas Localização de Estoque   \n",
    "**Description** - Descrição do Item   \n",
    "**Quantity**    - Quantida do item na ordem de venda    \n",
    "**InvoiceDate** - Data da ordem de compra  \n",
    "**CustomerID**  - Código identificador do Cliente  \n",
    "**Country**     - País do cliente  "
   ]
  },
  {
   "cell_type": "code",
   "execution_count": 5,
   "metadata": {},
   "outputs": [
    {
     "name": "stdout",
     "output_type": "stream",
     "text": [
      "InvoiceNo           0\n",
      "StockCode           0\n",
      "Description      1454\n",
      "Quantity            0\n",
      "InvoiceDate         0\n",
      "UnitPrice           0\n",
      "CustomerID     135080\n",
      "Country             0\n",
      "dtype: int64\n"
     ]
    }
   ],
   "source": [
    "# Identificando a quantidade de valores nulos\n",
    "print(df.isnull().sum())"
   ]
  },
  {
   "cell_type": "markdown",
   "metadata": {},
   "source": [
    "### Resumo das observações prévias\n",
    "O Dataset possui 8 colunas com dados sobre ordens de compras de um e-commerce.  \n",
    "\n",
    "Há dados sobre as ordens de compra, cada linha indica o item e a quantidade que foi comprada, trazendo informações de qual cliente, quando e onde ele realizou a compra, o preço unitário de compra de cada item e podendo haver compras de diversos itens dentro de uma mesma Invoice.  \n",
    "\n",
    "Os dados mais importantes ausentes são de indentificação do cliente, podendo ser considerados em uma análise de compras iniciais, porém para uma análise mais detalhada dos clientes devem ser desconsiderados.\n",
    "\n",
    "Há também informação faltante das descrição dos itens, porém os códigos dos itens estão todos completos, podemos analisar essas descrições de itens para ver se podemos considerar cada código de produto único da descrição e preenche-los ou se não devemos relaciona-los.\n",
    "\n",
    "Apesar de mais de um item por Invoice é importante também a verificação de dados duplicados para não sujar a base."
   ]
  },
  {
   "cell_type": "markdown",
   "metadata": {},
   "source": [
    "# 2. Limpeza e Preparação dos dados"
   ]
  },
  {
   "cell_type": "markdown",
   "metadata": {},
   "source": [
    "### 2.1 Verificando duplicidade nos registros"
   ]
  },
  {
   "cell_type": "code",
   "execution_count": 6,
   "metadata": {},
   "outputs": [
    {
     "name": "stdout",
     "output_type": "stream",
     "text": [
      "5268 linhas Duplicadas de um total de 541909 entradas.\n"
     ]
    }
   ],
   "source": [
    "# Quantificando duplicidade nos registros\n",
    "print(df.duplicated().sum(), \"linhas Duplicadas de um total de\", len(df), \"entradas.\")"
   ]
  },
  {
   "cell_type": "code",
   "execution_count": 7,
   "metadata": {},
   "outputs": [
    {
     "data": {
      "text/html": [
       "<div>\n",
       "<style scoped>\n",
       "    .dataframe tbody tr th:only-of-type {\n",
       "        vertical-align: middle;\n",
       "    }\n",
       "\n",
       "    .dataframe tbody tr th {\n",
       "        vertical-align: top;\n",
       "    }\n",
       "\n",
       "    .dataframe thead th {\n",
       "        text-align: right;\n",
       "    }\n",
       "</style>\n",
       "<table border=\"1\" class=\"dataframe\">\n",
       "  <thead>\n",
       "    <tr style=\"text-align: right;\">\n",
       "      <th></th>\n",
       "      <th>InvoiceNo</th>\n",
       "      <th>StockCode</th>\n",
       "      <th>Description</th>\n",
       "      <th>Quantity</th>\n",
       "      <th>InvoiceDate</th>\n",
       "      <th>UnitPrice</th>\n",
       "      <th>CustomerID</th>\n",
       "      <th>Country</th>\n",
       "    </tr>\n",
       "  </thead>\n",
       "  <tbody>\n",
       "    <tr>\n",
       "      <th>517</th>\n",
       "      <td>536409</td>\n",
       "      <td>21866</td>\n",
       "      <td>UNION JACK FLAG LUGGAGE TAG</td>\n",
       "      <td>1</td>\n",
       "      <td>12/1/2010 11:45</td>\n",
       "      <td>1.25</td>\n",
       "      <td>17908.0</td>\n",
       "      <td>United Kingdom</td>\n",
       "    </tr>\n",
       "    <tr>\n",
       "      <th>527</th>\n",
       "      <td>536409</td>\n",
       "      <td>22866</td>\n",
       "      <td>HAND WARMER SCOTTY DOG DESIGN</td>\n",
       "      <td>1</td>\n",
       "      <td>12/1/2010 11:45</td>\n",
       "      <td>2.10</td>\n",
       "      <td>17908.0</td>\n",
       "      <td>United Kingdom</td>\n",
       "    </tr>\n",
       "    <tr>\n",
       "      <th>537</th>\n",
       "      <td>536409</td>\n",
       "      <td>22900</td>\n",
       "      <td>SET 2 TEA TOWELS I LOVE LONDON</td>\n",
       "      <td>1</td>\n",
       "      <td>12/1/2010 11:45</td>\n",
       "      <td>2.95</td>\n",
       "      <td>17908.0</td>\n",
       "      <td>United Kingdom</td>\n",
       "    </tr>\n",
       "    <tr>\n",
       "      <th>539</th>\n",
       "      <td>536409</td>\n",
       "      <td>22111</td>\n",
       "      <td>SCOTTIE DOG HOT WATER BOTTLE</td>\n",
       "      <td>1</td>\n",
       "      <td>12/1/2010 11:45</td>\n",
       "      <td>4.95</td>\n",
       "      <td>17908.0</td>\n",
       "      <td>United Kingdom</td>\n",
       "    </tr>\n",
       "    <tr>\n",
       "      <th>555</th>\n",
       "      <td>536412</td>\n",
       "      <td>22327</td>\n",
       "      <td>ROUND SNACK BOXES SET OF 4 SKULLS</td>\n",
       "      <td>1</td>\n",
       "      <td>12/1/2010 11:49</td>\n",
       "      <td>2.95</td>\n",
       "      <td>17920.0</td>\n",
       "      <td>United Kingdom</td>\n",
       "    </tr>\n",
       "  </tbody>\n",
       "</table>\n",
       "</div>"
      ],
      "text/plain": [
       "    InvoiceNo StockCode                        Description  Quantity  \\\n",
       "517    536409     21866        UNION JACK FLAG LUGGAGE TAG         1   \n",
       "527    536409     22866      HAND WARMER SCOTTY DOG DESIGN         1   \n",
       "537    536409     22900    SET 2 TEA TOWELS I LOVE LONDON          1   \n",
       "539    536409     22111       SCOTTIE DOG HOT WATER BOTTLE         1   \n",
       "555    536412     22327  ROUND SNACK BOXES SET OF 4 SKULLS         1   \n",
       "\n",
       "         InvoiceDate  UnitPrice  CustomerID         Country  \n",
       "517  12/1/2010 11:45       1.25     17908.0  United Kingdom  \n",
       "527  12/1/2010 11:45       2.10     17908.0  United Kingdom  \n",
       "537  12/1/2010 11:45       2.95     17908.0  United Kingdom  \n",
       "539  12/1/2010 11:45       4.95     17908.0  United Kingdom  \n",
       "555  12/1/2010 11:49       2.95     17920.0  United Kingdom  "
      ]
     },
     "execution_count": 7,
     "metadata": {},
     "output_type": "execute_result"
    }
   ],
   "source": [
    "# Identificar linhas duplicadas\n",
    "linhas_dup = df[df.duplicated()]\n",
    "\n",
    "# Contar e exibir algumas duplicatas\n",
    "exibir_linhas_dup = linhas_dup.head()\n",
    "\n",
    "exibir_linhas_dup"
   ]
  },
  {
   "cell_type": "code",
   "execution_count": 8,
   "metadata": {},
   "outputs": [
    {
     "name": "stdout",
     "output_type": "stream",
     "text": [
      "0 linhas Duplicadas de um total de 541909 entradas.\n"
     ]
    }
   ],
   "source": [
    "# Criando nova versão sem as duplicadas\n",
    "df_limpo = df.drop_duplicates()\n",
    "\n",
    "# Quantificando duplicidade nos registros\n",
    "print(df_limpo.duplicated().sum(), \"linhas Duplicadas de um total de\", len(df), \"entradas.\")"
   ]
  },
  {
   "cell_type": "code",
   "execution_count": 9,
   "metadata": {},
   "outputs": [],
   "source": [
    "# Atualizando Dataset sem duplicatas\n",
    "df=df_limpo"
   ]
  },
  {
   "cell_type": "markdown",
   "metadata": {},
   "source": [
    "### 2.2 Avaliação da Relação entre as colunas StockCode e Description"
   ]
  },
  {
   "cell_type": "code",
   "execution_count": 10,
   "metadata": {},
   "outputs": [
    {
     "name": "stdout",
     "output_type": "stream",
     "text": [
      "Códigos unicos: 4070\n",
      "Descrições únicas': 4223\n"
     ]
    },
    {
     "data": {
      "text/html": [
       "<div>\n",
       "<style scoped>\n",
       "    .dataframe tbody tr th:only-of-type {\n",
       "        vertical-align: middle;\n",
       "    }\n",
       "\n",
       "    .dataframe tbody tr th {\n",
       "        vertical-align: top;\n",
       "    }\n",
       "\n",
       "    .dataframe thead th {\n",
       "        text-align: right;\n",
       "    }\n",
       "</style>\n",
       "<table border=\"1\" class=\"dataframe\">\n",
       "  <thead>\n",
       "    <tr style=\"text-align: right;\">\n",
       "      <th>Description</th>\n",
       "      <th>4 PURPLE FLOCK DINNER CANDLES</th>\n",
       "      <th>50'S CHRISTMAS GIFT BAG LARGE</th>\n",
       "      <th>DOLLY GIRL BEAKER</th>\n",
       "      <th>I LOVE LONDON MINI BACKPACK</th>\n",
       "      <th>I LOVE LONDON MINI RUCKSACK</th>\n",
       "      <th>NINE DRAWER OFFICE TIDY</th>\n",
       "      <th>OVAL WALL MIRROR DIAMANTE</th>\n",
       "      <th>RED SPOT GIFT BAG LARGE</th>\n",
       "      <th>SET 2 TEA TOWELS I LOVE LONDON</th>\n",
       "      <th>SPACEBOY BABY GIFT SET</th>\n",
       "      <th>...</th>\n",
       "      <th>wrongly coded 20713</th>\n",
       "      <th>wrongly coded 23343</th>\n",
       "      <th>wrongly coded-23343</th>\n",
       "      <th>wrongly marked</th>\n",
       "      <th>wrongly marked 23343</th>\n",
       "      <th>wrongly marked carton 22804</th>\n",
       "      <th>wrongly marked. 23343 in box</th>\n",
       "      <th>wrongly sold (22719) barcode</th>\n",
       "      <th>wrongly sold as sets</th>\n",
       "      <th>wrongly sold sets</th>\n",
       "    </tr>\n",
       "    <tr>\n",
       "      <th>StockCode</th>\n",
       "      <th></th>\n",
       "      <th></th>\n",
       "      <th></th>\n",
       "      <th></th>\n",
       "      <th></th>\n",
       "      <th></th>\n",
       "      <th></th>\n",
       "      <th></th>\n",
       "      <th></th>\n",
       "      <th></th>\n",
       "      <th></th>\n",
       "      <th></th>\n",
       "      <th></th>\n",
       "      <th></th>\n",
       "      <th></th>\n",
       "      <th></th>\n",
       "      <th></th>\n",
       "      <th></th>\n",
       "      <th></th>\n",
       "      <th></th>\n",
       "      <th></th>\n",
       "    </tr>\n",
       "  </thead>\n",
       "  <tbody>\n",
       "    <tr>\n",
       "      <th>10002</th>\n",
       "      <td>0</td>\n",
       "      <td>0</td>\n",
       "      <td>0</td>\n",
       "      <td>0</td>\n",
       "      <td>0</td>\n",
       "      <td>0</td>\n",
       "      <td>0</td>\n",
       "      <td>0</td>\n",
       "      <td>0</td>\n",
       "      <td>0</td>\n",
       "      <td>...</td>\n",
       "      <td>0</td>\n",
       "      <td>0</td>\n",
       "      <td>0</td>\n",
       "      <td>0</td>\n",
       "      <td>0</td>\n",
       "      <td>0</td>\n",
       "      <td>0</td>\n",
       "      <td>0</td>\n",
       "      <td>0</td>\n",
       "      <td>0</td>\n",
       "    </tr>\n",
       "    <tr>\n",
       "      <th>10080</th>\n",
       "      <td>0</td>\n",
       "      <td>0</td>\n",
       "      <td>0</td>\n",
       "      <td>0</td>\n",
       "      <td>0</td>\n",
       "      <td>0</td>\n",
       "      <td>0</td>\n",
       "      <td>0</td>\n",
       "      <td>0</td>\n",
       "      <td>0</td>\n",
       "      <td>...</td>\n",
       "      <td>0</td>\n",
       "      <td>0</td>\n",
       "      <td>0</td>\n",
       "      <td>0</td>\n",
       "      <td>0</td>\n",
       "      <td>0</td>\n",
       "      <td>0</td>\n",
       "      <td>0</td>\n",
       "      <td>0</td>\n",
       "      <td>0</td>\n",
       "    </tr>\n",
       "    <tr>\n",
       "      <th>10120</th>\n",
       "      <td>0</td>\n",
       "      <td>0</td>\n",
       "      <td>0</td>\n",
       "      <td>0</td>\n",
       "      <td>0</td>\n",
       "      <td>0</td>\n",
       "      <td>0</td>\n",
       "      <td>0</td>\n",
       "      <td>0</td>\n",
       "      <td>0</td>\n",
       "      <td>...</td>\n",
       "      <td>0</td>\n",
       "      <td>0</td>\n",
       "      <td>0</td>\n",
       "      <td>0</td>\n",
       "      <td>0</td>\n",
       "      <td>0</td>\n",
       "      <td>0</td>\n",
       "      <td>0</td>\n",
       "      <td>0</td>\n",
       "      <td>0</td>\n",
       "    </tr>\n",
       "    <tr>\n",
       "      <th>10123C</th>\n",
       "      <td>0</td>\n",
       "      <td>0</td>\n",
       "      <td>0</td>\n",
       "      <td>0</td>\n",
       "      <td>0</td>\n",
       "      <td>0</td>\n",
       "      <td>0</td>\n",
       "      <td>0</td>\n",
       "      <td>0</td>\n",
       "      <td>0</td>\n",
       "      <td>...</td>\n",
       "      <td>0</td>\n",
       "      <td>0</td>\n",
       "      <td>0</td>\n",
       "      <td>0</td>\n",
       "      <td>0</td>\n",
       "      <td>0</td>\n",
       "      <td>0</td>\n",
       "      <td>0</td>\n",
       "      <td>0</td>\n",
       "      <td>0</td>\n",
       "    </tr>\n",
       "    <tr>\n",
       "      <th>10124A</th>\n",
       "      <td>0</td>\n",
       "      <td>0</td>\n",
       "      <td>0</td>\n",
       "      <td>0</td>\n",
       "      <td>0</td>\n",
       "      <td>0</td>\n",
       "      <td>0</td>\n",
       "      <td>0</td>\n",
       "      <td>0</td>\n",
       "      <td>0</td>\n",
       "      <td>...</td>\n",
       "      <td>0</td>\n",
       "      <td>0</td>\n",
       "      <td>0</td>\n",
       "      <td>0</td>\n",
       "      <td>0</td>\n",
       "      <td>0</td>\n",
       "      <td>0</td>\n",
       "      <td>0</td>\n",
       "      <td>0</td>\n",
       "      <td>0</td>\n",
       "    </tr>\n",
       "    <tr>\n",
       "      <th>10124G</th>\n",
       "      <td>0</td>\n",
       "      <td>0</td>\n",
       "      <td>0</td>\n",
       "      <td>0</td>\n",
       "      <td>0</td>\n",
       "      <td>0</td>\n",
       "      <td>0</td>\n",
       "      <td>0</td>\n",
       "      <td>0</td>\n",
       "      <td>0</td>\n",
       "      <td>...</td>\n",
       "      <td>0</td>\n",
       "      <td>0</td>\n",
       "      <td>0</td>\n",
       "      <td>0</td>\n",
       "      <td>0</td>\n",
       "      <td>0</td>\n",
       "      <td>0</td>\n",
       "      <td>0</td>\n",
       "      <td>0</td>\n",
       "      <td>0</td>\n",
       "    </tr>\n",
       "    <tr>\n",
       "      <th>10125</th>\n",
       "      <td>0</td>\n",
       "      <td>0</td>\n",
       "      <td>0</td>\n",
       "      <td>0</td>\n",
       "      <td>0</td>\n",
       "      <td>0</td>\n",
       "      <td>0</td>\n",
       "      <td>0</td>\n",
       "      <td>0</td>\n",
       "      <td>0</td>\n",
       "      <td>...</td>\n",
       "      <td>0</td>\n",
       "      <td>0</td>\n",
       "      <td>0</td>\n",
       "      <td>0</td>\n",
       "      <td>0</td>\n",
       "      <td>0</td>\n",
       "      <td>0</td>\n",
       "      <td>0</td>\n",
       "      <td>0</td>\n",
       "      <td>0</td>\n",
       "    </tr>\n",
       "    <tr>\n",
       "      <th>10133</th>\n",
       "      <td>0</td>\n",
       "      <td>0</td>\n",
       "      <td>0</td>\n",
       "      <td>0</td>\n",
       "      <td>0</td>\n",
       "      <td>0</td>\n",
       "      <td>0</td>\n",
       "      <td>0</td>\n",
       "      <td>0</td>\n",
       "      <td>0</td>\n",
       "      <td>...</td>\n",
       "      <td>0</td>\n",
       "      <td>0</td>\n",
       "      <td>0</td>\n",
       "      <td>0</td>\n",
       "      <td>0</td>\n",
       "      <td>0</td>\n",
       "      <td>0</td>\n",
       "      <td>0</td>\n",
       "      <td>0</td>\n",
       "      <td>0</td>\n",
       "    </tr>\n",
       "    <tr>\n",
       "      <th>10135</th>\n",
       "      <td>0</td>\n",
       "      <td>0</td>\n",
       "      <td>0</td>\n",
       "      <td>0</td>\n",
       "      <td>0</td>\n",
       "      <td>0</td>\n",
       "      <td>0</td>\n",
       "      <td>0</td>\n",
       "      <td>0</td>\n",
       "      <td>0</td>\n",
       "      <td>...</td>\n",
       "      <td>0</td>\n",
       "      <td>0</td>\n",
       "      <td>0</td>\n",
       "      <td>0</td>\n",
       "      <td>0</td>\n",
       "      <td>0</td>\n",
       "      <td>0</td>\n",
       "      <td>0</td>\n",
       "      <td>0</td>\n",
       "      <td>0</td>\n",
       "    </tr>\n",
       "    <tr>\n",
       "      <th>11001</th>\n",
       "      <td>0</td>\n",
       "      <td>0</td>\n",
       "      <td>0</td>\n",
       "      <td>0</td>\n",
       "      <td>0</td>\n",
       "      <td>0</td>\n",
       "      <td>0</td>\n",
       "      <td>0</td>\n",
       "      <td>0</td>\n",
       "      <td>0</td>\n",
       "      <td>...</td>\n",
       "      <td>0</td>\n",
       "      <td>0</td>\n",
       "      <td>0</td>\n",
       "      <td>0</td>\n",
       "      <td>0</td>\n",
       "      <td>0</td>\n",
       "      <td>0</td>\n",
       "      <td>0</td>\n",
       "      <td>0</td>\n",
       "      <td>0</td>\n",
       "    </tr>\n",
       "  </tbody>\n",
       "</table>\n",
       "<p>10 rows × 4223 columns</p>\n",
       "</div>"
      ],
      "text/plain": [
       "Description   4 PURPLE FLOCK DINNER CANDLES   50'S CHRISTMAS GIFT BAG LARGE  \\\n",
       "StockCode                                                                     \n",
       "10002                                     0                               0   \n",
       "10080                                     0                               0   \n",
       "10120                                     0                               0   \n",
       "10123C                                    0                               0   \n",
       "10124A                                    0                               0   \n",
       "10124G                                    0                               0   \n",
       "10125                                     0                               0   \n",
       "10133                                     0                               0   \n",
       "10135                                     0                               0   \n",
       "11001                                     0                               0   \n",
       "\n",
       "Description   DOLLY GIRL BEAKER   I LOVE LONDON MINI BACKPACK  \\\n",
       "StockCode                                                       \n",
       "10002                         0                             0   \n",
       "10080                         0                             0   \n",
       "10120                         0                             0   \n",
       "10123C                        0                             0   \n",
       "10124A                        0                             0   \n",
       "10124G                        0                             0   \n",
       "10125                         0                             0   \n",
       "10133                         0                             0   \n",
       "10135                         0                             0   \n",
       "11001                         0                             0   \n",
       "\n",
       "Description   I LOVE LONDON MINI RUCKSACK   NINE DRAWER OFFICE TIDY  \\\n",
       "StockCode                                                             \n",
       "10002                                   0                         0   \n",
       "10080                                   0                         0   \n",
       "10120                                   0                         0   \n",
       "10123C                                  0                         0   \n",
       "10124A                                  0                         0   \n",
       "10124G                                  0                         0   \n",
       "10125                                   0                         0   \n",
       "10133                                   0                         0   \n",
       "10135                                   0                         0   \n",
       "11001                                   0                         0   \n",
       "\n",
       "Description   OVAL WALL MIRROR DIAMANTE    RED SPOT GIFT BAG LARGE  \\\n",
       "StockCode                                                            \n",
       "10002                                  0                         0   \n",
       "10080                                  0                         0   \n",
       "10120                                  0                         0   \n",
       "10123C                                 0                         0   \n",
       "10124A                                 0                         0   \n",
       "10124G                                 0                         0   \n",
       "10125                                  0                         0   \n",
       "10133                                  0                         0   \n",
       "10135                                  0                         0   \n",
       "11001                                  0                         0   \n",
       "\n",
       "Description   SET 2 TEA TOWELS I LOVE LONDON    SPACEBOY BABY GIFT SET  ...  \\\n",
       "StockCode                                                               ...   \n",
       "10002                                       0                        0  ...   \n",
       "10080                                       0                        0  ...   \n",
       "10120                                       0                        0  ...   \n",
       "10123C                                      0                        0  ...   \n",
       "10124A                                      0                        0  ...   \n",
       "10124G                                      0                        0  ...   \n",
       "10125                                       0                        0  ...   \n",
       "10133                                       0                        0  ...   \n",
       "10135                                       0                        0  ...   \n",
       "11001                                       0                        0  ...   \n",
       "\n",
       "Description  wrongly coded 20713  wrongly coded 23343  wrongly coded-23343  \\\n",
       "StockCode                                                                    \n",
       "10002                          0                    0                    0   \n",
       "10080                          0                    0                    0   \n",
       "10120                          0                    0                    0   \n",
       "10123C                         0                    0                    0   \n",
       "10124A                         0                    0                    0   \n",
       "10124G                         0                    0                    0   \n",
       "10125                          0                    0                    0   \n",
       "10133                          0                    0                    0   \n",
       "10135                          0                    0                    0   \n",
       "11001                          0                    0                    0   \n",
       "\n",
       "Description  wrongly marked  wrongly marked 23343  \\\n",
       "StockCode                                           \n",
       "10002                     0                     0   \n",
       "10080                     0                     0   \n",
       "10120                     0                     0   \n",
       "10123C                    0                     0   \n",
       "10124A                    0                     0   \n",
       "10124G                    0                     0   \n",
       "10125                     0                     0   \n",
       "10133                     0                     0   \n",
       "10135                     0                     0   \n",
       "11001                     0                     0   \n",
       "\n",
       "Description  wrongly marked carton 22804  wrongly marked. 23343 in box  \\\n",
       "StockCode                                                                \n",
       "10002                                  0                             0   \n",
       "10080                                  0                             0   \n",
       "10120                                  0                             0   \n",
       "10123C                                 0                             0   \n",
       "10124A                                 0                             0   \n",
       "10124G                                 0                             0   \n",
       "10125                                  0                             0   \n",
       "10133                                  0                             0   \n",
       "10135                                  0                             0   \n",
       "11001                                  0                             0   \n",
       "\n",
       "Description  wrongly sold (22719) barcode  wrongly sold as sets  \\\n",
       "StockCode                                                         \n",
       "10002                                   0                     0   \n",
       "10080                                   0                     0   \n",
       "10120                                   0                     0   \n",
       "10123C                                  0                     0   \n",
       "10124A                                  0                     0   \n",
       "10124G                                  0                     0   \n",
       "10125                                   0                     0   \n",
       "10133                                   0                     0   \n",
       "10135                                   0                     0   \n",
       "11001                                   0                     0   \n",
       "\n",
       "Description  wrongly sold sets  \n",
       "StockCode                       \n",
       "10002                        0  \n",
       "10080                        0  \n",
       "10120                        0  \n",
       "10123C                       0  \n",
       "10124A                       0  \n",
       "10124G                       0  \n",
       "10125                        0  \n",
       "10133                        0  \n",
       "10135                        0  \n",
       "11001                        0  \n",
       "\n",
       "[10 rows x 4223 columns]"
      ]
     },
     "metadata": {},
     "output_type": "display_data"
    }
   ],
   "source": [
    "# Verificar valores únicos das colunas analisadas\n",
    "codigos_unicos = df['StockCode'].nunique()\n",
    "print(f\"Códigos unicos: {codigos_unicos}\")\n",
    "\n",
    "descr_unicas = df['Description'].nunique()\n",
    "print(f\"Descrições únicas': {descr_unicas}\")\n",
    "\n",
    "# Analisar Relação entre 'StockCode' & 'Description'\n",
    "stock_x_description = pd.crosstab(df['StockCode'], df['Description'])\n",
    "\n",
    "display(stock_x_description.head(10))"
   ]
  },
  {
   "cell_type": "code",
   "execution_count": 11,
   "metadata": {},
   "outputs": [
    {
     "name": "stdout",
     "output_type": "stream",
     "text": [
      "\n",
      "Númbero de Códigos com multiplas descrições: 3786\n"
     ]
    }
   ],
   "source": [
    "# Encontrar códigos com mais de uma descrição\n",
    "multiplas_descr_por_codigo = stock_x_description[stock_x_description.sum(axis=1) > 1]\n",
    "quant_multiplas_descr = len(multiplas_descr_por_codigo)\n",
    "print(f\"\\nNúmbero de Códigos com multiplas descrições: {quant_multiplas_descr}\")"
   ]
  },
  {
   "cell_type": "markdown",
   "metadata": {},
   "source": [
    "**INTERPRETAÇÃO:**  \n",
    "Não há uma relação direta entre os códigos e a descrição dos produtos, linhas sem descrições devem desconsideradas para análises mais aprofundadas sobre os produtos."
   ]
  },
  {
   "cell_type": "markdown",
   "metadata": {},
   "source": [
    "### 2.3 Avaliação da Relação entre as colunas Cliente e País"
   ]
  },
  {
   "cell_type": "code",
   "execution_count": 13,
   "metadata": {},
   "outputs": [
    {
     "name": "stdout",
     "output_type": "stream",
     "text": [
      "Clientes que compram de múltiplos países: CustomerID\n",
      "12370.0           [Cyprus, Austria]\n",
      "12394.0          [Belgium, Denmark]\n",
      "12417.0            [Belgium, Spain]\n",
      "12422.0    [Australia, Switzerland]\n",
      "12429.0          [Denmark, Austria]\n",
      "12431.0        [Australia, Belgium]\n",
      "12455.0             [Cyprus, Spain]\n",
      "12457.0       [Switzerland, Cyprus]\n",
      "Name: Country, dtype: object\n"
     ]
    }
   ],
   "source": [
    "cliente_pais = df.groupby('CustomerID')['Country'].unique()\n",
    "multiplo_paises_clientes = cliente_pais[cliente_pais.apply(len) > 1]\n",
    "print(f\"Clientes que compram de múltiplos países: {multiplo_paises_clientes}\")"
   ]
  },
  {
   "cell_type": "code",
   "execution_count": 14,
   "metadata": {},
   "outputs": [],
   "source": [
    "# Substituir nomes e deletar paises não especificados\n",
    "df['Country'] = df['Country'].replace('EIRE', 'Ireland')\n",
    "df = df[df['Country'] != 'Unspecified']"
   ]
  },
  {
   "cell_type": "markdown",
   "metadata": {},
   "source": [
    "**INTERPRETAÇÃO:**  \n",
    "Há Clientes que compram de mais de um país de origem."
   ]
  },
  {
   "cell_type": "markdown",
   "metadata": {},
   "source": [
    "### 2.3 Conversão dos tipos de variáveis"
   ]
  },
  {
   "cell_type": "code",
   "execution_count": 15,
   "metadata": {},
   "outputs": [],
   "source": [
    "# Converter InvoiceDate para datetime\n",
    "df['InvoiceDate'] = pd.to_datetime(df['InvoiceDate'], format='%m/%d/%Y %H:%M')"
   ]
  },
  {
   "cell_type": "code",
   "execution_count": 16,
   "metadata": {},
   "outputs": [],
   "source": [
    "# Remover linhas onde CustomerID está ausente\n",
    "df = df.dropna(subset=[\"CustomerID\"])\n",
    "\n",
    "# Converter para object\n",
    "df['CustomerID'] = df['CustomerID'].astype('object')"
   ]
  },
  {
   "cell_type": "markdown",
   "metadata": {},
   "source": [
    "### 2.4 Criação de Novas Métricas por Cliente"
   ]
  },
  {
   "cell_type": "code",
   "execution_count": 17,
   "metadata": {},
   "outputs": [],
   "source": [
    "# Criar nova coluna Total Comprado por linha\n",
    "df[\"TotalCompra\"] = df[\"Quantity\"] * df[\"UnitPrice\"]"
   ]
  },
  {
   "cell_type": "code",
   "execution_count": 18,
   "metadata": {},
   "outputs": [
    {
     "data": {
      "text/html": [
       "<div>\n",
       "<style scoped>\n",
       "    .dataframe tbody tr th:only-of-type {\n",
       "        vertical-align: middle;\n",
       "    }\n",
       "\n",
       "    .dataframe tbody tr th {\n",
       "        vertical-align: top;\n",
       "    }\n",
       "\n",
       "    .dataframe thead th {\n",
       "        text-align: right;\n",
       "    }\n",
       "</style>\n",
       "<table border=\"1\" class=\"dataframe\">\n",
       "  <thead>\n",
       "    <tr style=\"text-align: right;\">\n",
       "      <th></th>\n",
       "      <th>CustomerID</th>\n",
       "      <th>TicketMedio</th>\n",
       "      <th>FrequenciaCompra</th>\n",
       "      <th>ValorTotalCompras</th>\n",
       "      <th>UltimaCompra</th>\n",
       "      <th>DiasDesdeUltimaCompra</th>\n",
       "    </tr>\n",
       "  </thead>\n",
       "  <tbody>\n",
       "    <tr>\n",
       "      <th>0</th>\n",
       "      <td>17850</td>\n",
       "      <td>17.163366</td>\n",
       "      <td>35</td>\n",
       "      <td>5303.48</td>\n",
       "      <td>2011-02-10 14:38:00</td>\n",
       "      <td>301</td>\n",
       "    </tr>\n",
       "    <tr>\n",
       "      <th>1</th>\n",
       "      <td>13047</td>\n",
       "      <td>15.709694</td>\n",
       "      <td>18</td>\n",
       "      <td>3079.10</td>\n",
       "      <td>2011-11-08 12:10:00</td>\n",
       "      <td>31</td>\n",
       "    </tr>\n",
       "    <tr>\n",
       "      <th>2</th>\n",
       "      <td>12583</td>\n",
       "      <td>28.634821</td>\n",
       "      <td>18</td>\n",
       "      <td>7187.34</td>\n",
       "      <td>2011-12-07 08:07:00</td>\n",
       "      <td>2</td>\n",
       "    </tr>\n",
       "    <tr>\n",
       "      <th>3</th>\n",
       "      <td>13748</td>\n",
       "      <td>33.866071</td>\n",
       "      <td>5</td>\n",
       "      <td>948.25</td>\n",
       "      <td>2011-09-05 09:45:00</td>\n",
       "      <td>95</td>\n",
       "    </tr>\n",
       "    <tr>\n",
       "      <th>4</th>\n",
       "      <td>15100</td>\n",
       "      <td>105.850000</td>\n",
       "      <td>6</td>\n",
       "      <td>635.10</td>\n",
       "      <td>2011-01-13 17:09:00</td>\n",
       "      <td>329</td>\n",
       "    </tr>\n",
       "  </tbody>\n",
       "</table>\n",
       "</div>"
      ],
      "text/plain": [
       "  CustomerID  TicketMedio  FrequenciaCompra  ValorTotalCompras  \\\n",
       "0      17850    17.163366                35            5303.48   \n",
       "1      13047    15.709694                18            3079.10   \n",
       "2      12583    28.634821                18            7187.34   \n",
       "3      13748    33.866071                 5             948.25   \n",
       "4      15100   105.850000                 6             635.10   \n",
       "\n",
       "         UltimaCompra  DiasDesdeUltimaCompra  \n",
       "0 2011-02-10 14:38:00                    301  \n",
       "1 2011-11-08 12:10:00                     31  \n",
       "2 2011-12-07 08:07:00                      2  \n",
       "3 2011-09-05 09:45:00                     95  \n",
       "4 2011-01-13 17:09:00                    329  "
      ]
     },
     "execution_count": 18,
     "metadata": {},
     "output_type": "execute_result"
    }
   ],
   "source": [
    "# Criar métrica de ticket médio por cliente\n",
    "ticket_medio = df.groupby(\"CustomerID\")[\"TotalCompra\"].mean().reset_index()\n",
    "ticket_medio.columns = [\"CustomerID\", \"TicketMedio\"]\n",
    "\n",
    "# Criar métrica de frequência de compra por cliente\n",
    "frequencia = df.groupby(\"CustomerID\")[\"InvoiceNo\"].nunique().reset_index()\n",
    "frequencia.columns = [\"CustomerID\", \"FrequenciaCompra\"]\n",
    "\n",
    "# Calcular valor total de compras por cliente\n",
    "valor_total = df.groupby(\"CustomerID\")[\"TotalCompra\"].sum().reset_index()\n",
    "valor_total.columns = [\"CustomerID\", \"ValorTotalCompras\"]\n",
    "\n",
    "# Calcular última data de compra por cliente\n",
    "ultima_compra = df.groupby(\"CustomerID\")[\"InvoiceDate\"].max().reset_index()\n",
    "ultima_compra.columns = [\"CustomerID\", \"UltimaCompra\"]\n",
    "\n",
    "# Calcular dias desde a última compra\n",
    "data_referencia = df[\"InvoiceDate\"].max()\n",
    "ultima_compra[\"DiasDesdeUltimaCompra\"] = (data_referencia - ultima_compra[\"UltimaCompra\"]).dt.days\n",
    "\n",
    "# Unir todas as métricas ao dataset original\n",
    "df_clientes = df[[\"CustomerID\"]].drop_duplicates()\n",
    "df_clientes = df_clientes.merge(ticket_medio, on=\"CustomerID\", how=\"left\")\n",
    "df_clientes = df_clientes.merge(frequencia, on=\"CustomerID\", how=\"left\")\n",
    "df_clientes = df_clientes.merge(valor_total, on=\"CustomerID\", how=\"left\")\n",
    "df_clientes = df_clientes.merge(ultima_compra[[\"CustomerID\", \"UltimaCompra\", \"DiasDesdeUltimaCompra\"]], on=\"CustomerID\", how=\"left\")\n",
    "\n",
    "# Exibir as primeiras linhas do dataset final de clientes\n",
    "df_clientes.head()"
   ]
  },
  {
   "cell_type": "markdown",
   "metadata": {},
   "source": [
    "# 3. Análise Exploratória de Dados (EDA) "
   ]
  },
  {
   "cell_type": "markdown",
   "metadata": {},
   "source": [
    "### 3.1  Padrões de compras ao longo do tempo"
   ]
  },
  {
   "cell_type": "code",
   "execution_count": 19,
   "metadata": {},
   "outputs": [
    {
     "data": {
      "image/png": "[encoded data removed]",
      "text/plain": [
       "<Figure size 432x288 with 1 Axes>"
      ]
     },
     "metadata": {
      "needs_background": "light"
     },
     "output_type": "display_data"
    },
    {
     "data": {
      "image/png": "[encoded data removed]",
      "text/plain": [
       "<Figure size 432x288 with 1 Axes>"
      ]
     },
     "metadata": {
      "needs_background": "light"
     },
     "output_type": "display_data"
    },
    {
     "data": {
      "image/png": "[encoded data removed]",
      "text/plain": [
       "<Figure size 432x288 with 1 Axes>"
      ]
     },
     "metadata": {
      "needs_background": "light"
     },
     "output_type": "display_data"
    }
   ],
   "source": [
    "# Agrupar por mês\n",
    "vendas_ano =  df.groupby(df['InvoiceDate'].dt.year)['TotalCompra'].sum()\n",
    "\n",
    "# Agrupar por mês\n",
    "vendas_mes = df.groupby(pd.Grouper(key='InvoiceDate', freq='M'))['TotalCompra'].sum()\n",
    "\n",
    "# Agrupar por dia da semana\n",
    "vendas_diadasemana = df.groupby(df['InvoiceDate'].dt.dayofweek)['TotalCompra'].sum()\n",
    "\n",
    "# Gráfico de barras das vendas anuais\n",
    "vendas_ano.plot(kind='bar')\n",
    "plt.title('Vendas Anuais')\n",
    "plt.xlabel('Ano')\n",
    "plt.ylabel('Valor Total')\n",
    "plt.show()\n",
    "\n",
    "# Gráfico de linha das vendas mensais\n",
    "vendas_mes.plot(kind='line')\n",
    "plt.title('Vendas Mensais')\n",
    "plt.xlabel('Mês')\n",
    "plt.ylabel('Valor Total')\n",
    "plt.show()\n",
    "\n",
    "# Gráfico de barras das vendas por dia da semana\n",
    "vendas_diadasemana.plot(kind='bar')\n",
    "plt.title('Vendas por Dia da Semana')\n",
    "plt.xlabel('Dia da Semana')\n",
    "plt.ylabel('Valor Total')\n",
    "plt.show()"
   ]
  },
  {
   "cell_type": "code",
   "execution_count": 20,
   "metadata": {},
   "outputs": [
    {
     "name": "stdout",
     "output_type": "stream",
     "text": [
      "A data da última invoice é: 2011-12-09 12:50:00\n"
     ]
    }
   ],
   "source": [
    "ultima_data_invoice = df['InvoiceDate'].max()\n",
    "print(f\"A data da última invoice é: {ultima_data_invoice}\")"
   ]
  },
  {
   "cell_type": "markdown",
   "metadata": {},
   "source": [
    "**INTERPRETAÇÃO:**  \n",
    "Dados entre dez/2010 e dez/2011, o último dado é do começo de dez/2011, desconsiderando este último mês que está incompleto há uma tendência de crescimento de vendas a partir do segundo semestre de 2011.  \n",
    "É aparente um pico de vendas no 1º mês, que pode ser justificado pelo lançamento/início da plataforma e pico em março e maio que podem indicar que houve alguma ação específica de venda, ou que há um certo pico de compras nesses períodos por pura sazonalidade. \n",
    "Não há compras aos Sábados (dia da semana 5)."
   ]
  },
  {
   "cell_type": "markdown",
   "metadata": {},
   "source": [
    "### 3.2  Padrões dos produtos"
   ]
  },
  {
   "cell_type": "code",
   "execution_count": 21,
   "metadata": {},
   "outputs": [
    {
     "name": "stdout",
     "output_type": "stream",
     "text": [
      "Produtos mais vendidos:\n",
      "Description\n",
      "WORLD WAR 2 GLIDERS ASSTD DESIGNS     53119\n",
      "JUMBO BAG RED RETROSPOT               44963\n",
      "ASSORTED COLOUR BIRD ORNAMENT         35193\n",
      "WHITE HANGING HEART T-LIGHT HOLDER    34128\n",
      "PACK OF 72 RETROSPOT CAKE CASES       33362\n",
      "POPCORN HOLDER                        30492\n",
      "RABBIT NIGHT LIGHT                    27045\n",
      "MINI PAINT SET VINTAGE                25880\n",
      "PACK OF 12 LONDON TISSUES             25305\n",
      "PACK OF 60 PINK PAISLEY CAKE CASES    24105\n",
      "Name: Quantity, dtype: int64\n"
     ]
    }
   ],
   "source": [
    "# Agrupar por 'Description' e somar as quantidades vendidas\n",
    "produtos_vendidos = df.groupby('Description')['Quantity'].sum()\n",
    "\n",
    "# Exibir os produtos mais vendidos\n",
    "print(\"Produtos mais vendidos:\")\n",
    "print(produtos_vendidos.sort_values(ascending=False).head(10))"
   ]
  },
  {
   "cell_type": "code",
   "execution_count": 22,
   "metadata": {},
   "outputs": [
    {
     "name": "stdout",
     "output_type": "stream",
     "text": [
      "\n",
      "Produtos frequentemente comprados juntos:\n",
      "                                              Par Produto  Frequencia\n",
      "11234   (JUMBO BAG PINK POLKADOT, JUMBO BAG RED RETROS...         575\n",
      "31530   (GREEN REGENCY TEACUP AND SAUCER, ROSES REGENC...         557\n",
      "113     (ALARM CLOCK BAKELIKE GREEN, ALARM CLOCK BAKEL...         549\n",
      "7137    (LUNCH BAG  BLACK SKULL., LUNCH BAG RED RETROS...         547\n",
      "4017    (LUNCH BAG PINK POLKADOT, LUNCH BAG RED RETROS...         545\n",
      "41090   (LUNCH BAG  BLACK SKULL., LUNCH BAG PINK POLKA...         488\n",
      "4105    (PAPER CHAIN KIT 50'S CHRISTMAS , PAPER CHAIN ...         476\n",
      "4015    (LUNCH BAG RED RETROSPOT, LUNCH BAG SPACEBOY D...         476\n",
      "986776  (GARDENERS KNEELING PAD CUP OF TEA , GARDENERS...         475\n",
      "374     (WOODEN FRAME ANTIQUE WHITE , WOODEN PICTURE F...         474\n"
     ]
    }
   ],
   "source": [
    "from collections import defaultdict\n",
    "\n",
    "# Filtrar invoices não canceladas (como antes)\n",
    "df_filtered = df[~df['InvoiceNo'].astype(str).str.startswith('C')]\n",
    "\n",
    "# Criar uma lista de transações (invoices) (como antes)\n",
    "transactions = df_filtered.groupby('InvoiceNo')['Description'].apply(list).values.tolist()\n",
    "\n",
    "# Dicionário para armazenar a frequência de pares de produtos\n",
    "product_pairs = defaultdict(int)\n",
    "\n",
    "# Iterar pelas transações e contar a frequência de pares de produtos\n",
    "for transaction in transactions:\n",
    "    for i in range(len(transaction)):\n",
    "        for j in range(i + 1, len(transaction)):\n",
    "            product1, product2 = sorted([transaction[i], transaction[j]])  # Ordenar para consistência\n",
    "            product_pairs[(product1, product2)] += 1\n",
    "\n",
    "# Criar um DataFrame com os pares de produtos e suas frequências\n",
    "frequent_pairs = pd.DataFrame(list(product_pairs.items()), columns=['Par Produto', 'Frequencia'])\n",
    "\n",
    "# Ordenar por frequência em ordem decrescente\n",
    "frequent_pairs = frequent_pairs.sort_values(by=['Frequencia'], ascending=False)\n",
    "\n",
    "# Exibir os pares de produtos mais frequentes\n",
    "print(\"\\nProdutos frequentemente comprados juntos:\")\n",
    "print(frequent_pairs.head(10))"
   ]
  },
  {
   "cell_type": "markdown",
   "metadata": {},
   "source": [
    "**INTERPRETAÇÃO:**  \n",
    "Produtos mais vendidos indicam produtos com maior demanda que poderiam ter uma maior margem, e também demonstra oportunidade de melhoria do desenvolvimento de vendas dos demais produtos.  \n",
    "Análise de produtos mais vendidos em combos, para verificar possíveis oportunidades de promoções."
   ]
  },
  {
   "cell_type": "markdown",
   "metadata": {},
   "source": [
    "### 3.3 Analisar padrões de cancelamento de pedidos."
   ]
  },
  {
   "cell_type": "code",
   "execution_count": 23,
   "metadata": {},
   "outputs": [
    {
     "name": "stdout",
     "output_type": "stream",
     "text": [
      "Taxa de cancelamento: 2.21%\n"
     ]
    }
   ],
   "source": [
    "# Avaliando a Taca de cancelamento\n",
    "df['Cancelados'] = df['Quantity'] < 0\n",
    "taxa_cancelamento = df['Cancelados'].sum() / len(df)\n",
    "print(f\"Taxa de cancelamento: {taxa_cancelamento:.2%}\")"
   ]
  },
  {
   "cell_type": "code",
   "execution_count": 27,
   "metadata": {},
   "outputs": [
    {
     "name": "stdout",
     "output_type": "stream",
     "text": [
      "\n",
      "Produtos mais cancelados:\n",
      "Description\n",
      "PAPER CRAFT , LITTLE BIRDIE          -168469.60\n",
      "Manual                               -112165.39\n",
      "MEDIUM CERAMIC TOP STORAGE JAR        -77479.64\n",
      "POSTAGE                               -11093.72\n",
      "REGENCY CAKESTAND 3 TIER               -9697.05\n",
      "CRUK Commission                        -7933.43\n",
      "WHITE HANGING HEART T-LIGHT HOLDER     -6624.30\n",
      "FAIRY CAKE FLANNEL ASSORTED COLOUR     -6591.42\n",
      "Discount                               -5696.22\n",
      "PANTRY CHOPPING BOARD                  -4803.06\n",
      "Name: TotalCompra, dtype: float64\n"
     ]
    }
   ],
   "source": [
    "produtos_cancelados = df[df['Cancelados']].groupby('Description')['TotalCompra'].sum()\n",
    "print(\"\\nProdutos mais cancelados:\")\n",
    "print(produtos_cancelados.sort_values(ascending=True).head(10))"
   ]
  },
  {
   "cell_type": "code",
   "execution_count": 28,
   "metadata": {},
   "outputs": [
    {
     "name": "stdout",
     "output_type": "stream",
     "text": [
      "\n",
      "Produtos mais cancelados:\n",
      "Description\n",
      "PAPER CRAFT , LITTLE BIRDIE           -80995\n",
      "MEDIUM CERAMIC TOP STORAGE JAR        -74494\n",
      "ROTATING SILVER ANGELS T-LIGHT HLDR    -9367\n",
      "Manual                                 -3995\n",
      "FAIRY CAKE FLANNEL ASSORTED COLOUR     -3150\n",
      "WHITE HANGING HEART T-LIGHT HOLDER     -2578\n",
      "GIN + TONIC DIET METAL SIGN            -2030\n",
      "HERB MARKER BASIL                      -1527\n",
      "FELTCRAFT DOLL MOLLY                   -1447\n",
      "TEA TIME PARTY BUNTING                 -1424\n",
      "Name: Quantity, dtype: int64\n"
     ]
    }
   ],
   "source": [
    "produtos_cancelados = df[df['Cancelados']].groupby('Description')['Quantity'].sum()\n",
    "print(\"\\nProdutos mais cancelados:\")\n",
    "print(produtos_cancelados.sort_values(ascending=True).head(10))"
   ]
  },
  {
   "cell_type": "code",
   "execution_count": 25,
   "metadata": {},
   "outputs": [
    {
     "name": "stdout",
     "output_type": "stream",
     "text": [
      "\n",
      "Clientes com mais cancelamentos:\n",
      "CustomerID\n",
      "14911.0    47\n",
      "17841.0    45\n",
      "14606.0    35\n",
      "14527.0    31\n",
      "15311.0    27\n",
      "16422.0    24\n",
      "13089.0    21\n",
      "12471.0    19\n",
      "13408.0    19\n",
      "13534.0    18\n",
      "Name: InvoiceNo, dtype: int64\n"
     ]
    }
   ],
   "source": [
    "clientes_cancelamentos = df[df['Cancelados']].groupby('CustomerID')['InvoiceNo'].nunique()\n",
    "print(\"\\nClientes com mais cancelamentos:\")\n",
    "print(clientes_cancelamentos.sort_values(ascending=False).head(10))"
   ]
  },
  {
   "cell_type": "markdown",
   "metadata": {},
   "source": [
    "**INTERPRETAÇÃO:**  \n",
    "Conseguimos observar uma relativamente baixa taxa de cancelamento, com a separação dos produtos mais cancelados por preço e por quantidade, sendo foco de antenção para qualidade/expectativa dos cliente, assim como verificar os principais clientes que cancelam compras, indicando possível fraude/má fé."
   ]
  },
  {
   "cell_type": "markdown",
   "metadata": {},
   "source": [
    "# 5. Insights e Recomendações"
   ]
  },
  {
   "cell_type": "markdown",
   "metadata": {},
   "source": [
    "#### Além dos insights já apresentados:"
   ]
  },
  {
   "cell_type": "markdown",
   "metadata": {},
   "source": [
    "### 5.1 Distribuição de venda por país"
   ]
  },
  {
   "cell_type": "code",
   "execution_count": 29,
   "metadata": {},
   "outputs": [
    {
     "data": {
      "text/plain": [
       "(array([ 0,  1,  2,  3,  4,  5,  6,  7,  8,  9, 10, 11, 12, 13, 14, 15, 16,\n",
       "        17, 18, 19, 20, 21, 22, 23, 24, 25, 26, 27, 28, 29, 30, 31, 32, 33,\n",
       "        34, 35]),\n",
       " [Text(0, 0, 'United Kingdom'),\n",
       "  Text(1, 0, 'Netherlands'),\n",
       "  Text(2, 0, 'Ireland'),\n",
       "  Text(3, 0, 'Germany'),\n",
       "  Text(4, 0, 'France'),\n",
       "  Text(5, 0, 'Australia'),\n",
       "  Text(6, 0, 'Switzerland'),\n",
       "  Text(7, 0, 'Spain'),\n",
       "  Text(8, 0, 'Belgium'),\n",
       "  Text(9, 0, 'Sweden'),\n",
       "  Text(10, 0, 'Japan'),\n",
       "  Text(11, 0, 'Norway'),\n",
       "  Text(12, 0, 'Portugal'),\n",
       "  Text(13, 0, 'Finland'),\n",
       "  Text(14, 0, 'Channel Islands'),\n",
       "  Text(15, 0, 'Denmark'),\n",
       "  Text(16, 0, 'Italy'),\n",
       "  Text(17, 0, 'Cyprus'),\n",
       "  Text(18, 0, 'Austria'),\n",
       "  Text(19, 0, 'Singapore'),\n",
       "  Text(20, 0, 'Poland'),\n",
       "  Text(21, 0, 'Israel'),\n",
       "  Text(22, 0, 'Greece'),\n",
       "  Text(23, 0, 'Iceland'),\n",
       "  Text(24, 0, 'Canada'),\n",
       "  Text(25, 0, 'Malta'),\n",
       "  Text(26, 0, 'United Arab Emirates'),\n",
       "  Text(27, 0, 'USA'),\n",
       "  Text(28, 0, 'Lebanon'),\n",
       "  Text(29, 0, 'Lithuania'),\n",
       "  Text(30, 0, 'European Community'),\n",
       "  Text(31, 0, 'Brazil'),\n",
       "  Text(32, 0, 'RSA'),\n",
       "  Text(33, 0, 'Czech Republic'),\n",
       "  Text(34, 0, 'Bahrain'),\n",
       "  Text(35, 0, 'Saudi Arabia')])"
      ]
     },
     "execution_count": 29,
     "metadata": {},
     "output_type": "execute_result"
    },
    {
     "data": {
      "image/png": "[encoded data removed]",
      "text/plain": [
       "<Figure size 864x432 with 1 Axes>"
      ]
     },
     "metadata": {
      "needs_background": "light"
     },
     "output_type": "display_data"
    }
   ],
   "source": [
    "# Agrupar por país e calcular a soma do TotalGasto\n",
    "total_vendido_pais = df.groupby('Country')['TotalCompra'].sum().reset_index()\n",
    "\n",
    "# Ordenar por Total Vendido em ordem decrescente\n",
    "total_vendido_pais = total_vendido_pais.sort_values(\n",
    "    by=['TotalCompra'], ascending=False\n",
    ")\n",
    "\n",
    "# Criar o gráfico de barras\n",
    "plt.figure(figsize=(12, 6))  # Ajustar tamanho da figura\n",
    "plt.title('Distribuição de Venda por País')\n",
    "sns.barplot(\n",
    "    x='Country',\n",
    "    y='TotalCompra',\n",
    "    data=total_vendido_pais,\n",
    "    palette='viridis',  # Escolher uma paleta de cores\n",
    ")\n",
    "\n",
    "\n",
    "# Formatar valores do eixo y como Float\n",
    "plt.gca().yaxis.set_major_formatter(\n",
    "    plt.FuncFormatter(lambda x, _: f' {x:,.0f}')\n",
    ")\n",
    "\n",
    "# Rotacionar os rótulos do eixo x para melhor visualização\n",
    "plt.xticks(rotation=45, ha='right', fontsize=10)"
   ]
  },
  {
   "cell_type": "markdown",
   "metadata": {},
   "source": [
    "**INTERPRETAÇÃO:**  \n",
    "País com mais venda é pra UK, sendo um mercado para focar investimentos e outros países aparecem como oportunidades para desenvolvimento dos negócios."
   ]
  },
  {
   "cell_type": "code",
   "execution_count": null,
   "metadata": {},
   "outputs": [],
   "source": []
  }
 ],
 "metadata": {
  "kernelspec": {
   "display_name": "Python 3",
   "language": "python",
   "name": "python3"
  },
  "language_info": {
   "codemirror_mode": {
    "name": "ipython",
    "version": 3
   },
   "file_extension": ".py",
   "mimetype": "text/x-python",
   "name": "python",
   "nbconvert_exporter": "python",
   "pygments_lexer": "ipython3",
   "version": "3.8.5"
  }
 },
 "nbformat": 4,
 "nbformat_minor": 4
}
